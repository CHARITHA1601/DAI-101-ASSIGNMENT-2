{
 "cells": [
  {
   "cell_type": "code",
   "execution_count": 1,
   "id": "039ea0d3-6525-4172-afb6-73fd7c7f0eeb",
   "metadata": {},
   "outputs": [
    {
     "data": {
      "text/plain": [
       "((99535, 17),\n",
       " (42658, 17),\n",
       " RainTomorrow\n",
       " 0    77183\n",
       " 1    22352\n",
       " Name: count, dtype: int64,\n",
       " RainTomorrow\n",
       " 0    33133\n",
       " 1     9525\n",
       " Name: count, dtype: int64)"
      ]
     },
     "execution_count": 1,
     "metadata": {},
     "output_type": "execute_result"
    }
   ],
   "source": [
    "import pandas as pd\n",
    "from sklearn.model_selection import train_test_split\n",
    "from sklearn.preprocessing import LabelEncoder, StandardScaler\n",
    "from sklearn.impute import SimpleImputer\n",
    "\n",
    "# Load the dataset\n",
    "file_path = 'weatherAUS.csv'  # make sure the filename matches the uploaded file\n",
    "data = pd.read_csv(file_path)\n",
    "\n",
    "# Drop columns with many missing values and rows where target is missing\n",
    "data = data.drop(columns=['Date', 'Evaporation', 'Sunshine', 'Cloud9am', 'Cloud3pm'])\n",
    "data = data.dropna(subset=['RainTomorrow'])\n",
    "\n",
    "# Impute missing values for numerical columns\n",
    "num_imputer = SimpleImputer(strategy='mean')\n",
    "data[data.select_dtypes(include=['float64']).columns] = num_imputer.fit_transform(data.select_dtypes(include=['float64']))\n",
    "\n",
    "# Impute missing values for categorical columns and encode them\n",
    "cat_imputer = SimpleImputer(strategy='most_frequent')\n",
    "data[data.select_dtypes(include=['object']).columns] = cat_imputer.fit_transform(data.select_dtypes(include=['object']))\n",
    "\n",
    "# Encode categorical features\n",
    "label_encoder = LabelEncoder()\n",
    "for col in data.select_dtypes(include=['object']).columns:\n",
    "    data[col] = label_encoder.fit_transform(data[col])\n",
    "\n",
    "# Separate features and target variable\n",
    "X = data.drop(columns=['RainTomorrow'])\n",
    "y = data['RainTomorrow'].astype(int)  # Encode target variable to binary\n",
    "\n",
    "# Split data into training and testing sets\n",
    "X_train, X_test, y_train, y_test = train_test_split(X, y, test_size=0.3, random_state=42)\n",
    "\n",
    "# Standardize the features\n",
    "scaler = StandardScaler()\n",
    "X_train = scaler.fit_transform(X_train)\n",
    "X_test = scaler.transform(X_test)\n",
    "\n",
    "X_train.shape, X_test.shape, y_train.value_counts(), y_test.value_counts()\n"
   ]
  },
  {
   "cell_type": "code",
   "execution_count": 2,
   "id": "b832d740-5f64-49f7-a496-ab43b65def1c",
   "metadata": {},
   "outputs": [
    {
     "name": "stdout",
     "output_type": "stream",
     "text": [
      "X_train shape: (99535, 17)\n",
      "X_test shape: (42658, 17)\n",
      "y_train distribution:\n",
      " RainTomorrow\n",
      "0    77183\n",
      "1    22352\n",
      "Name: count, dtype: int64\n",
      "y_test distribution:\n",
      " RainTomorrow\n",
      "0    33133\n",
      "1     9525\n",
      "Name: count, dtype: int64\n"
     ]
    }
   ],
   "source": [
    "print(\"X_train shape:\", X_train.shape)\n",
    "print(\"X_test shape:\", X_test.shape)\n",
    "print(\"y_train distribution:\\n\", y_train.value_counts())\n",
    "print(\"y_test distribution:\\n\", y_test.value_counts())\n"
   ]
  },
  {
   "cell_type": "code",
   "execution_count": 4,
   "id": "5fa79c11-7887-4b43-8fcb-5bd1a9d78e82",
   "metadata": {},
   "outputs": [
    {
     "name": "stdout",
     "output_type": "stream",
     "text": [
      "Baseline Model Performance:\n",
      "Accuracy: 0.8529466922968728\n",
      "F1 Score: 0.6056453133840448\n",
      "AUC: 0.876140384815101\n"
     ]
    }
   ],
   "source": [
    "from sklearn.ensemble import RandomForestClassifier\n",
    "from sklearn.metrics import accuracy_score, f1_score, roc_auc_score\n",
    "\n",
    "# Train the unbalanced model\n",
    "baseline_model = RandomForestClassifier(random_state=42)\n",
    "baseline_model.fit(X_train, y_train)\n",
    "\n",
    "# Predictions\n",
    "y_pred_baseline = baseline_model.predict(X_test)\n",
    "y_pred_proba_baseline = baseline_model.predict_proba(X_test)[:, 1]\n",
    "\n",
    "# Calculate metrics\n",
    "accuracy_baseline = accuracy_score(y_test, y_pred_baseline)\n",
    "f1_baseline = f1_score(y_test, y_pred_baseline)\n",
    "auc_baseline = roc_auc_score(y_test, y_pred_proba_baseline)\n",
    "\n",
    "print(\"Baseline Model Performance:\")\n",
    "print(\"Accuracy:\", accuracy_baseline)\n",
    "print(\"F1 Score:\", f1_baseline)\n",
    "print(\"AUC:\", auc_baseline)\n"
   ]
  },
  {
   "cell_type": "code",
   "execution_count": 22,
   "id": "a2006e2e-0544-48fa-93d2-d88ee7419e4f",
   "metadata": {},
   "outputs": [
    {
     "name": "stdout",
     "output_type": "stream",
     "text": [
      "Requirement already satisfied: imbalanced-learn in c:\\users\\asr13\\anaconda3\\lib\\site-packages (0.12.3)\n",
      "Requirement already satisfied: numpy>=1.17.3 in c:\\users\\asr13\\anaconda3\\lib\\site-packages (from imbalanced-learn) (1.26.4)\n",
      "Requirement already satisfied: scipy>=1.5.0 in c:\\users\\asr13\\anaconda3\\lib\\site-packages (from imbalanced-learn) (1.13.1)\n",
      "Requirement already satisfied: scikit-learn>=1.0.2 in c:\\users\\asr13\\anaconda3\\lib\\site-packages (from imbalanced-learn) (1.4.2)\n",
      "Requirement already satisfied: joblib>=1.1.1 in c:\\users\\asr13\\anaconda3\\lib\\site-packages (from imbalanced-learn) (1.4.2)\n",
      "Requirement already satisfied: threadpoolctl>=2.0.0 in c:\\users\\asr13\\anaconda3\\lib\\site-packages (from imbalanced-learn) (2.2.0)\n"
     ]
    }
   ],
   "source": [
    "!pip install imbalanced-learn\n"
   ]
  },
  {
   "cell_type": "code",
   "execution_count": 39,
   "id": "ab18571f-a59e-434c-a885-14f4dcc8d172",
   "metadata": {},
   "outputs": [
    {
     "ename": "NameError",
     "evalue": "name 'data' is not defined",
     "output_type": "error",
     "traceback": [
      "\u001b[1;31m---------------------------------------------------------------------------\u001b[0m",
      "\u001b[1;31mNameError\u001b[0m                                 Traceback (most recent call last)",
      "Cell \u001b[1;32mIn[39], line 8\u001b[0m\n\u001b[0;32m      5\u001b[0m \u001b[38;5;28;01mfrom\u001b[39;00m \u001b[38;5;21;01msklearn\u001b[39;00m\u001b[38;5;21;01m.\u001b[39;00m\u001b[38;5;21;01mmodel_selection\u001b[39;00m \u001b[38;5;28;01mimport\u001b[39;00m train_test_split\n\u001b[0;32m      7\u001b[0m \u001b[38;5;66;03m# Separate features and target variable\u001b[39;00m\n\u001b[1;32m----> 8\u001b[0m X \u001b[38;5;241m=\u001b[39m data\u001b[38;5;241m.\u001b[39mdrop(columns\u001b[38;5;241m=\u001b[39m[\u001b[38;5;124m'\u001b[39m\u001b[38;5;124mRainTomorrow\u001b[39m\u001b[38;5;124m'\u001b[39m])\n\u001b[0;32m      9\u001b[0m y \u001b[38;5;241m=\u001b[39m data[\u001b[38;5;124m'\u001b[39m\u001b[38;5;124mRainTomorrow\u001b[39m\u001b[38;5;124m'\u001b[39m]\u001b[38;5;241m.\u001b[39mastype(\u001b[38;5;28mint\u001b[39m)  \u001b[38;5;66;03m# Encode target variable to binary\u001b[39;00m\n\u001b[0;32m     11\u001b[0m \u001b[38;5;66;03m# Split the dataset into training and testing sets\u001b[39;00m\n",
      "\u001b[1;31mNameError\u001b[0m: name 'data' is not defined"
     ]
    }
   ],
   "source": [
    "from sklearn.ensemble import RandomForestClassifier\n",
    "from sklearn.metrics import accuracy_score, f1_score, roc_auc_score\n",
    "from imblearn.over_sampling import RandomOverSampler, SMOTE\n",
    "from imblearn.under_sampling import RandomUnderSampler, TomekLinks\n",
    "from sklearn.model_selection import train_test_split\n",
    "\n",
    "# Separate features and target variable\n",
    "X = data.drop(columns=['RainTomorrow'])\n",
    "y = data['RainTomorrow'].astype(int)  # Encode target variable to binary\n",
    "\n",
    "# Split the dataset into training and testing sets\n",
    "X_train, X_test, y_train, y_test = train_test_split(X, y, test_size=0.2, random_state=42)\n",
    "\n",
    "# Function to train and evaluate your model (make sure this function is defined)\n",
    "\n",
    "results['No Sampling'] = train_and_evaluate(X_train, y_train, X_test, y_test)\n",
    "\n",
    "\n",
    "# Function to train and evaluate the model\n",
    "def train_and_evaluate(X_train, y_train, X_test, y_test, sampler=None, class_weight=None):\n",
    "    # Define model with optional class weights\n",
    "    model = RandomForestClassifier(random_state=42, class_weight=class_weight)\n",
    "\n",
    "    # Apply sampling if specified\n",
    "    if sampler:\n",
    "        X_train_res, y_train_res = sampler.fit_resample(X_train, y_train)\n",
    "    else:\n",
    "        X_train_res, y_train_res = X_train, y_train\n",
    "\n",
    "    # Train the model\n",
    "    model.fit(X_train_res, y_train_res)\n",
    "    \n",
    "    # Predictions\n",
    "    y_pred = model.predict(X_test)\n",
    "    y_pred_proba = model.predict_proba(X_test)[:, 1]\n",
    "\n",
    "    # Metrics\n",
    "    accuracy = accuracy_score(y_test, y_pred)\n",
    "    f1 = f1_score(y_test, y_pred)\n",
    "    auc = roc_auc_score(y_test, y_pred_proba)\n",
    "\n",
    "    return accuracy, f1, auc\n",
    "\n",
    "\n",
    "# Base model without sampling\n",
    "results['No Sampling'] = train_and_evaluate(X_train, y_train, X_test, y_test)\n",
    "\n",
    "# Random Oversampling\n",
    "oversampler = RandomOverSampler(random_state=42)\n",
    "results['Random Oversampling'] = train_and_evaluate(X_train, y_train, X_test, y_test, sampler=oversampler)\n",
    "\n",
    "# Random Undersampling\n",
    "undersampler = RandomUnderSampler(random_state=42)\n",
    "results['Random Undersampling'] = train_and_evaluate(X_train, y_train, X_test, y_test, sampler=undersampler)\n",
    "\n",
    "# SMOTE\n",
    "smote_sampler = SMOTE(random_state=42)\n",
    "results['SMOTE'] = train_and_evaluate(X_train, y_train, X_test, y_test, sampler=smote_sampler)\n",
    "\n",
    "# Tomek Links\n",
    "tomek_sampler = TomekLinks()\n",
    "results['Tomek Links'] = train_and_evaluate(X_train, y_train, X_test, y_test, sampler=tomek_sampler)\n",
    "\n",
    "# Class Weighing\n",
    "results['Class Weighing'] = train_and_evaluate(X_train, y_train, X_test, y_test, class_weight='balanced')\n",
    "\n",
    "# Display results\n",
    "\n",
    "results['No Sampling'] = train_and_evaluate(X_train, y_train, X_test, y_test)\n"
   ]
  },
  {
   "cell_type": "code",
   "execution_count": null,
   "id": "53fbf6a2-ec27-4aba-b03a-2b026141df12",
   "metadata": {},
   "outputs": [],
   "source": []
  }
 ],
 "metadata": {
  "kernelspec": {
   "display_name": "Python 3 (ipykernel)",
   "language": "python",
   "name": "python3"
  },
  "language_info": {
   "codemirror_mode": {
    "name": "ipython",
    "version": 3
   },
   "file_extension": ".py",
   "mimetype": "text/x-python",
   "name": "python",
   "nbconvert_exporter": "python",
   "pygments_lexer": "ipython3",
   "version": "3.12.4"
  }
 },
 "nbformat": 4,
 "nbformat_minor": 5
}
